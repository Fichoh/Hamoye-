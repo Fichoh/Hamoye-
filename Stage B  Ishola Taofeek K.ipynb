{
 "cells": [
  {
   "cell_type": "code",
   "execution_count": 1,
   "metadata": {},
   "outputs": [],
   "source": [
    "import pandas as pd\n",
    "import numpy as np\n",
    "import matplotlib.pyplot as plt\n",
    "%matplotlib inline\n",
    "import seaborn as sns"
   ]
  },
  {
   "cell_type": "code",
   "execution_count": 2,
   "metadata": {},
   "outputs": [],
   "source": [
    "df = pd.read_csv('energy.csv')"
   ]
  },
  {
   "cell_type": "code",
   "execution_count": 3,
   "metadata": {},
   "outputs": [],
   "source": [
    "from sklearn.impute import SimpleImputer\n",
    "from sklearn.linear_model import LinearRegression\n",
    "from sklearn.svm import SVC\n",
    "from sklearn.pipeline import Pipeline\n",
    "from sklearn.metrics import mean_absolute_error\n",
    "from sklearn.preprocessing import MinMaxScaler\n",
    "from sklearn.model_selection import train_test_split"
   ]
  },
  {
   "cell_type": "code",
   "execution_count": 4,
   "metadata": {},
   "outputs": [
    {
     "data": {
      "text/plain": [
       "Index(['date', 'Appliances', 'lights', 'T1', 'RH_1', 'T2', 'RH_2', 'T3',\n",
       "       'RH_3', 'T4', 'RH_4', 'T5', 'RH_5', 'T6', 'RH_6', 'T7', 'RH_7', 'T8',\n",
       "       'RH_8', 'T9', 'RH_9', 'T_out', 'Press_mm_hg', 'RH_out', 'Windspeed',\n",
       "       'Visibility', 'Tdewpoint', 'rv1', 'rv2'],\n",
       "      dtype='object')"
      ]
     },
     "execution_count": 4,
     "metadata": {},
     "output_type": "execute_result"
    }
   ],
   "source": [
    "df.columns"
   ]
  },
  {
   "cell_type": "code",
   "execution_count": 5,
   "metadata": {},
   "outputs": [
    {
     "data": {
      "text/plain": [
       "LinearRegression()"
      ]
     },
     "execution_count": 5,
     "metadata": {},
     "output_type": "execute_result"
    }
   ],
   "source": [
    "model = LinearRegression()\n",
    "model.fit(df[['T2']], df['T6'])"
   ]
  },
  {
   "cell_type": "markdown",
   "metadata": {},
   "source": [
    "## Question 12 ##"
   ]
  },
  {
   "cell_type": "code",
   "execution_count": 6,
   "metadata": {},
   "outputs": [
    {
     "data": {
      "text/plain": [
       "0.6418990830855493"
      ]
     },
     "execution_count": 6,
     "metadata": {},
     "output_type": "execute_result"
    }
   ],
   "source": [
    "model.score(df[['T2']], df['T6'])"
   ]
  },
  {
   "cell_type": "markdown",
   "metadata": {},
   "source": [
    "## Question 13"
   ]
  },
  {
   "cell_type": "code",
   "execution_count": 8,
   "metadata": {},
   "outputs": [],
   "source": [
    "df = df.drop(['date', 'lights'], axis = 1)"
   ]
  },
  {
   "cell_type": "code",
   "execution_count": 55,
   "metadata": {},
   "outputs": [],
   "source": [
    "scaler = MinMaxScaler()\n",
    "df_norm = pd.DataFrame(scaler.fit_transform(df), columns = df.columns)\n",
    "\n",
    "x = df_norm.drop(['Appliances'], axis = 1)\n",
    "y = df['Appliances']\n",
    "\n",
    "x_train, x_test, y_train, y_test = train_test_split(x, y , test_size = 0.3 , random_state = 42)\n",
    "\n",
    "lin_model = LinearRegression()\n",
    "lin_model.fit(x_train, y_train)\n",
    "\n",
    "prediction = lin_model.predict(x_test)"
   ]
  },
  {
   "cell_type": "code",
   "execution_count": 56,
   "metadata": {},
   "outputs": [
    {
     "data": {
      "text/plain": [
       "53.64297765584962"
      ]
     },
     "execution_count": 56,
     "metadata": {},
     "output_type": "execute_result"
    }
   ],
   "source": [
    "mean_absolute_error(prediction, y_test)"
   ]
  },
  {
   "cell_type": "markdown",
   "metadata": {},
   "source": [
    "## Question 14"
   ]
  },
  {
   "cell_type": "code",
   "execution_count": 50,
   "metadata": {},
   "outputs": [
    {
     "name": "stdout",
     "output_type": "stream",
     "text": [
      "51918501.21223275\n"
     ]
    }
   ],
   "source": [
    "#Residual Sum of square\n",
    "\n",
    "print(np.sum((y_test - prediction)**2))"
   ]
  },
  {
   "cell_type": "markdown",
   "metadata": {},
   "source": [
    "## Question 15"
   ]
  },
  {
   "cell_type": "code",
   "execution_count": 51,
   "metadata": {},
   "outputs": [
    {
     "data": {
      "text/plain": [
       "93.64"
      ]
     },
     "execution_count": 51,
     "metadata": {},
     "output_type": "execute_result"
    }
   ],
   "source": [
    "from sklearn.metrics import mean_squared_error\n",
    "\n",
    "rmse =np.sqrt(mean_squared_error(y_test, prediction))\n",
    "\n",
    "round(rmse, 3)"
   ]
  },
  {
   "cell_type": "markdown",
   "metadata": {},
   "source": [
    "## Question 16"
   ]
  },
  {
   "cell_type": "code",
   "execution_count": 54,
   "metadata": {},
   "outputs": [
    {
     "data": {
      "text/plain": [
       "0.15"
      ]
     },
     "execution_count": 54,
     "metadata": {},
     "output_type": "execute_result"
    }
   ],
   "source": [
    "#Coefficient of determination\n",
    "\n",
    "from sklearn.metrics import r2_score\n",
    "\n",
    "r2 = r2_score(y_test, prediction)\n",
    "\n",
    "round(r2, 2)"
   ]
  },
  {
   "cell_type": "markdown",
   "metadata": {},
   "source": [
    "## Question 17"
   ]
  },
  {
   "cell_type": "code",
   "execution_count": 31,
   "metadata": {},
   "outputs": [
    {
     "data": {
      "text/plain": [
       "Index(['T1', 'RH_1', 'T2', 'RH_2', 'T3', 'RH_3', 'T4', 'RH_4', 'T5', 'RH_5',\n",
       "       'T6', 'RH_6', 'T7', 'RH_7', 'T8', 'RH_8', 'T9', 'RH_9', 'T_out',\n",
       "       'Press_mm_hg', 'RH_out', 'Windspeed', 'Visibility', 'Tdewpoint', 'rv1',\n",
       "       'rv2'],\n",
       "      dtype='object')"
      ]
     },
     "execution_count": 31,
     "metadata": {},
     "output_type": "execute_result"
    }
   ],
   "source": [
    "x.columns"
   ]
  },
  {
   "cell_type": "code",
   "execution_count": 57,
   "metadata": {},
   "outputs": [
    {
     "data": {
      "text/html": [
       "<div>\n",
       "<style scoped>\n",
       "    .dataframe tbody tr th:only-of-type {\n",
       "        vertical-align: middle;\n",
       "    }\n",
       "\n",
       "    .dataframe tbody tr th {\n",
       "        vertical-align: top;\n",
       "    }\n",
       "\n",
       "    .dataframe thead th {\n",
       "        text-align: right;\n",
       "    }\n",
       "</style>\n",
       "<table border=\"1\" class=\"dataframe\">\n",
       "  <thead>\n",
       "    <tr style=\"text-align: right;\">\n",
       "      <th></th>\n",
       "      <th>feature</th>\n",
       "      <th>weights</th>\n",
       "    </tr>\n",
       "  </thead>\n",
       "  <tbody>\n",
       "    <tr>\n",
       "      <th>3</th>\n",
       "      <td>RH_2</td>\n",
       "      <td>-488.666805</td>\n",
       "    </tr>\n",
       "    <tr>\n",
       "      <th>18</th>\n",
       "      <td>T_out</td>\n",
       "      <td>-344.389845</td>\n",
       "    </tr>\n",
       "    <tr>\n",
       "      <th>2</th>\n",
       "      <td>T2</td>\n",
       "      <td>-252.710373</td>\n",
       "    </tr>\n",
       "    <tr>\n",
       "      <th>16</th>\n",
       "      <td>T9</td>\n",
       "      <td>-203.236627</td>\n",
       "    </tr>\n",
       "    <tr>\n",
       "      <th>15</th>\n",
       "      <td>RH_8</td>\n",
       "      <td>-168.627161</td>\n",
       "    </tr>\n",
       "    <tr>\n",
       "      <th>20</th>\n",
       "      <td>RH_out</td>\n",
       "      <td>-83.107599</td>\n",
       "    </tr>\n",
       "    <tr>\n",
       "      <th>13</th>\n",
       "      <td>RH_7</td>\n",
       "      <td>-47.736592</td>\n",
       "    </tr>\n",
       "    <tr>\n",
       "      <th>17</th>\n",
       "      <td>RH_9</td>\n",
       "      <td>-42.586339</td>\n",
       "    </tr>\n",
       "    <tr>\n",
       "      <th>8</th>\n",
       "      <td>T5</td>\n",
       "      <td>-16.752822</td>\n",
       "    </tr>\n",
       "    <tr>\n",
       "      <th>0</th>\n",
       "      <td>T1</td>\n",
       "      <td>-3.510725</td>\n",
       "    </tr>\n",
       "    <tr>\n",
       "      <th>24</th>\n",
       "      <td>rv1</td>\n",
       "      <td>0.824005</td>\n",
       "    </tr>\n",
       "    <tr>\n",
       "      <th>25</th>\n",
       "      <td>rv2</td>\n",
       "      <td>0.824005</td>\n",
       "    </tr>\n",
       "    <tr>\n",
       "      <th>19</th>\n",
       "      <td>Press_mm_hg</td>\n",
       "      <td>7.318079</td>\n",
       "    </tr>\n",
       "    <tr>\n",
       "      <th>12</th>\n",
       "      <td>T7</td>\n",
       "      <td>11.041091</td>\n",
       "    </tr>\n",
       "    <tr>\n",
       "      <th>22</th>\n",
       "      <td>Visibility</td>\n",
       "      <td>13.168072</td>\n",
       "    </tr>\n",
       "    <tr>\n",
       "      <th>9</th>\n",
       "      <td>RH_5</td>\n",
       "      <td>17.126194</td>\n",
       "    </tr>\n",
       "    <tr>\n",
       "      <th>7</th>\n",
       "      <td>RH_4</td>\n",
       "      <td>28.232781</td>\n",
       "    </tr>\n",
       "    <tr>\n",
       "      <th>6</th>\n",
       "      <td>T4</td>\n",
       "      <td>31.009668</td>\n",
       "    </tr>\n",
       "    <tr>\n",
       "      <th>21</th>\n",
       "      <td>Windspeed</td>\n",
       "      <td>31.225948</td>\n",
       "    </tr>\n",
       "    <tr>\n",
       "      <th>11</th>\n",
       "      <td>RH_6</td>\n",
       "      <td>40.712058</td>\n",
       "    </tr>\n",
       "    <tr>\n",
       "      <th>5</th>\n",
       "      <td>RH_3</td>\n",
       "      <td>102.771652</td>\n",
       "    </tr>\n",
       "    <tr>\n",
       "      <th>14</th>\n",
       "      <td>T8</td>\n",
       "      <td>109.134698</td>\n",
       "    </tr>\n",
       "    <tr>\n",
       "      <th>23</th>\n",
       "      <td>Tdewpoint</td>\n",
       "      <td>126.000776</td>\n",
       "    </tr>\n",
       "    <tr>\n",
       "      <th>10</th>\n",
       "      <td>T6</td>\n",
       "      <td>252.974652</td>\n",
       "    </tr>\n",
       "    <tr>\n",
       "      <th>4</th>\n",
       "      <td>T3</td>\n",
       "      <td>310.971037</td>\n",
       "    </tr>\n",
       "    <tr>\n",
       "      <th>1</th>\n",
       "      <td>RH_1</td>\n",
       "      <td>592.294862</td>\n",
       "    </tr>\n",
       "  </tbody>\n",
       "</table>\n",
       "</div>"
      ],
      "text/plain": [
       "        feature     weights\n",
       "3          RH_2 -488.666805\n",
       "18        T_out -344.389845\n",
       "2            T2 -252.710373\n",
       "16           T9 -203.236627\n",
       "15         RH_8 -168.627161\n",
       "20       RH_out  -83.107599\n",
       "13         RH_7  -47.736592\n",
       "17         RH_9  -42.586339\n",
       "8            T5  -16.752822\n",
       "0            T1   -3.510725\n",
       "24          rv1    0.824005\n",
       "25          rv2    0.824005\n",
       "19  Press_mm_hg    7.318079\n",
       "12           T7   11.041091\n",
       "22   Visibility   13.168072\n",
       "9          RH_5   17.126194\n",
       "7          RH_4   28.232781\n",
       "6            T4   31.009668\n",
       "21    Windspeed   31.225948\n",
       "11         RH_6   40.712058\n",
       "5          RH_3  102.771652\n",
       "14           T8  109.134698\n",
       "23    Tdewpoint  126.000776\n",
       "10           T6  252.974652\n",
       "4            T3  310.971037\n",
       "1          RH_1  592.294862"
      ]
     },
     "execution_count": 57,
     "metadata": {},
     "output_type": "execute_result"
    }
   ],
   "source": [
    "coeffs = pd.DataFrame({'feature':x_train.columns.to_list(), 'weights':lin_model.coef_})\n",
    "coeffs.sort_values('weights')"
   ]
  },
  {
   "cell_type": "markdown",
   "metadata": {},
   "source": [
    "## Question 18"
   ]
  },
  {
   "cell_type": "code",
   "execution_count": 64,
   "metadata": {},
   "outputs": [
    {
     "data": {
      "text/plain": [
       "93.661"
      ]
     },
     "execution_count": 64,
     "metadata": {},
     "output_type": "execute_result"
    }
   ],
   "source": [
    "from sklearn.linear_model import Ridge\n",
    "\n",
    "ridge_model = Ridge(alpha = 0.4)\n",
    "\n",
    "ridge_model.fit(x_train, y_train)\n",
    "\n",
    "pred = ridge_model.predict(x_test)\n",
    "\n",
    "rmse =np.sqrt(mean_squared_error(y_test, pred))\n",
    "\n",
    "round(rmse, 3)"
   ]
  },
  {
   "cell_type": "markdown",
   "metadata": {},
   "source": [
    "## Question 19"
   ]
  },
  {
   "cell_type": "code",
   "execution_count": 61,
   "metadata": {},
   "outputs": [
    {
     "data": {
      "text/html": [
       "<div>\n",
       "<style scoped>\n",
       "    .dataframe tbody tr th:only-of-type {\n",
       "        vertical-align: middle;\n",
       "    }\n",
       "\n",
       "    .dataframe tbody tr th {\n",
       "        vertical-align: top;\n",
       "    }\n",
       "\n",
       "    .dataframe thead th {\n",
       "        text-align: right;\n",
       "    }\n",
       "</style>\n",
       "<table border=\"1\" class=\"dataframe\">\n",
       "  <thead>\n",
       "    <tr style=\"text-align: right;\">\n",
       "      <th></th>\n",
       "      <th>feature</th>\n",
       "      <th>weights</th>\n",
       "    </tr>\n",
       "  </thead>\n",
       "  <tbody>\n",
       "    <tr>\n",
       "      <th>0</th>\n",
       "      <td>T1</td>\n",
       "      <td>-4.147124e+00</td>\n",
       "    </tr>\n",
       "    <tr>\n",
       "      <th>1</th>\n",
       "      <td>RH_1</td>\n",
       "      <td>5.905998e+02</td>\n",
       "    </tr>\n",
       "    <tr>\n",
       "      <th>2</th>\n",
       "      <td>T2</td>\n",
       "      <td>-2.494688e+02</td>\n",
       "    </tr>\n",
       "    <tr>\n",
       "      <th>3</th>\n",
       "      <td>RH_2</td>\n",
       "      <td>-4.845653e+02</td>\n",
       "    </tr>\n",
       "    <tr>\n",
       "      <th>4</th>\n",
       "      <td>T3</td>\n",
       "      <td>3.102104e+02</td>\n",
       "    </tr>\n",
       "    <tr>\n",
       "      <th>5</th>\n",
       "      <td>RH_3</td>\n",
       "      <td>1.022046e+02</td>\n",
       "    </tr>\n",
       "    <tr>\n",
       "      <th>6</th>\n",
       "      <td>T4</td>\n",
       "      <td>3.034520e+01</td>\n",
       "    </tr>\n",
       "    <tr>\n",
       "      <th>7</th>\n",
       "      <td>RH_4</td>\n",
       "      <td>2.744590e+01</td>\n",
       "    </tr>\n",
       "    <tr>\n",
       "      <th>8</th>\n",
       "      <td>T5</td>\n",
       "      <td>-1.711872e+01</td>\n",
       "    </tr>\n",
       "    <tr>\n",
       "      <th>9</th>\n",
       "      <td>RH_5</td>\n",
       "      <td>1.710332e+01</td>\n",
       "    </tr>\n",
       "    <tr>\n",
       "      <th>10</th>\n",
       "      <td>T6</td>\n",
       "      <td>2.500810e+02</td>\n",
       "    </tr>\n",
       "    <tr>\n",
       "      <th>11</th>\n",
       "      <td>RH_6</td>\n",
       "      <td>4.009288e+01</td>\n",
       "    </tr>\n",
       "    <tr>\n",
       "      <th>12</th>\n",
       "      <td>T7</td>\n",
       "      <td>1.034681e+01</td>\n",
       "    </tr>\n",
       "    <tr>\n",
       "      <th>13</th>\n",
       "      <td>RH_7</td>\n",
       "      <td>-4.738909e+01</td>\n",
       "    </tr>\n",
       "    <tr>\n",
       "      <th>14</th>\n",
       "      <td>T8</td>\n",
       "      <td>1.088834e+02</td>\n",
       "    </tr>\n",
       "    <tr>\n",
       "      <th>15</th>\n",
       "      <td>RH_8</td>\n",
       "      <td>-1.686955e+02</td>\n",
       "    </tr>\n",
       "    <tr>\n",
       "      <th>16</th>\n",
       "      <td>T9</td>\n",
       "      <td>-2.025025e+02</td>\n",
       "    </tr>\n",
       "    <tr>\n",
       "      <th>17</th>\n",
       "      <td>RH_9</td>\n",
       "      <td>-4.245510e+01</td>\n",
       "    </tr>\n",
       "    <tr>\n",
       "      <th>18</th>\n",
       "      <td>T_out</td>\n",
       "      <td>-3.325717e+02</td>\n",
       "    </tr>\n",
       "    <tr>\n",
       "      <th>19</th>\n",
       "      <td>Press_mm_hg</td>\n",
       "      <td>7.282154e+00</td>\n",
       "    </tr>\n",
       "    <tr>\n",
       "      <th>20</th>\n",
       "      <td>RH_out</td>\n",
       "      <td>-7.800039e+01</td>\n",
       "    </tr>\n",
       "    <tr>\n",
       "      <th>21</th>\n",
       "      <td>Windspeed</td>\n",
       "      <td>3.138951e+01</td>\n",
       "    </tr>\n",
       "    <tr>\n",
       "      <th>22</th>\n",
       "      <td>Visibility</td>\n",
       "      <td>1.307832e+01</td>\n",
       "    </tr>\n",
       "    <tr>\n",
       "      <th>23</th>\n",
       "      <td>Tdewpoint</td>\n",
       "      <td>1.185980e+02</td>\n",
       "    </tr>\n",
       "    <tr>\n",
       "      <th>24</th>\n",
       "      <td>rv1</td>\n",
       "      <td>1.631174e+00</td>\n",
       "    </tr>\n",
       "    <tr>\n",
       "      <th>25</th>\n",
       "      <td>rv2</td>\n",
       "      <td>1.336915e-15</td>\n",
       "    </tr>\n",
       "  </tbody>\n",
       "</table>\n",
       "</div>"
      ],
      "text/plain": [
       "        feature       weights\n",
       "0            T1 -4.147124e+00\n",
       "1          RH_1  5.905998e+02\n",
       "2            T2 -2.494688e+02\n",
       "3          RH_2 -4.845653e+02\n",
       "4            T3  3.102104e+02\n",
       "5          RH_3  1.022046e+02\n",
       "6            T4  3.034520e+01\n",
       "7          RH_4  2.744590e+01\n",
       "8            T5 -1.711872e+01\n",
       "9          RH_5  1.710332e+01\n",
       "10           T6  2.500810e+02\n",
       "11         RH_6  4.009288e+01\n",
       "12           T7  1.034681e+01\n",
       "13         RH_7 -4.738909e+01\n",
       "14           T8  1.088834e+02\n",
       "15         RH_8 -1.686955e+02\n",
       "16           T9 -2.025025e+02\n",
       "17         RH_9 -4.245510e+01\n",
       "18        T_out -3.325717e+02\n",
       "19  Press_mm_hg  7.282154e+00\n",
       "20       RH_out -7.800039e+01\n",
       "21    Windspeed  3.138951e+01\n",
       "22   Visibility  1.307832e+01\n",
       "23    Tdewpoint  1.185980e+02\n",
       "24          rv1  1.631174e+00\n",
       "25          rv2  1.336915e-15"
      ]
     },
     "execution_count": 61,
     "metadata": {},
     "output_type": "execute_result"
    }
   ],
   "source": [
    "from sklearn.linear_model import Lasso\n",
    "\n",
    "lasso_model = Lasso(alpha = 0.001)\n",
    "\n",
    "lasso_model.fit(x_train, y_train)\n",
    "\n",
    "pd.DataFrame({'feature':x_train.columns.to_list(), 'weights':lasso_model.coef_})"
   ]
  },
  {
   "cell_type": "code",
   "execution_count": 63,
   "metadata": {},
   "outputs": [
    {
     "data": {
      "text/plain": [
       "\"\\ndef get_weights_df(model, feat, col_name):\\n    weights = pd.Series(model.coef_, feat.columns).sort_values()\\n    weights_df = pd.DataFrame(weights).reset_index()\\n    weights_df.columns = [ 'Features' , col_name]\\n    weights_df[col_name].round( 3 )\\n    return weights_df\\n\\nlinear_model_weights = get_weights_df(lin_model, x_train, 'Linear_Model_Weight' )\\nridge_weights_df = get_weights_df(ridge_model, x_train, 'Ridge_Weight' )\\nlasso_weights_df = get_weights_df(lasso_model, x_train, 'Lasso_weight' )\\n\\n\\nfinal_weights = pd.merge(linear_model_weights, ridge_weights_df, on= 'Features' )\\nfinal_weights = pd.merge(final_weights, lasso_weights_df, on= 'Features' )\\n\""
      ]
     },
     "execution_count": 63,
     "metadata": {},
     "output_type": "execute_result"
    }
   ],
   "source": [
    "'''\n",
    "def get_weights_df(model, feat, col_name):\n",
    "    weights = pd.Series(model.coef_, feat.columns).sort_values()\n",
    "    weights_df = pd.DataFrame(weights).reset_index()\n",
    "    weights_df.columns = [ 'Features' , col_name]\n",
    "    weights_df[col_name].round( 3 )\n",
    "    return weights_df\n",
    "\n",
    "linear_model_weights = get_weights_df(lin_model, x_train, 'Linear_Model_Weight' )\n",
    "ridge_weights_df = get_weights_df(ridge_model, x_train, 'Ridge_Weight' )\n",
    "lasso_weights_df = get_weights_df(lasso_model, x_train, 'Lasso_weight' )\n",
    "\n",
    "\n",
    "final_weights = pd.merge(linear_model_weights, ridge_weights_df, on= 'Features' )\n",
    "final_weights = pd.merge(final_weights, lasso_weights_df, on= 'Features' )\n",
    "'''"
   ]
  },
  {
   "cell_type": "code",
   "execution_count": 41,
   "metadata": {},
   "outputs": [
    {
     "data": {
      "text/html": [
       "<div>\n",
       "<style scoped>\n",
       "    .dataframe tbody tr th:only-of-type {\n",
       "        vertical-align: middle;\n",
       "    }\n",
       "\n",
       "    .dataframe tbody tr th {\n",
       "        vertical-align: top;\n",
       "    }\n",
       "\n",
       "    .dataframe thead th {\n",
       "        text-align: right;\n",
       "    }\n",
       "</style>\n",
       "<table border=\"1\" class=\"dataframe\">\n",
       "  <thead>\n",
       "    <tr style=\"text-align: right;\">\n",
       "      <th></th>\n",
       "      <th>Features</th>\n",
       "      <th>Linear_Model_Weight</th>\n",
       "      <th>Ridge_Weight</th>\n",
       "      <th>Lasso_weight</th>\n",
       "    </tr>\n",
       "  </thead>\n",
       "  <tbody>\n",
       "    <tr>\n",
       "      <th>0</th>\n",
       "      <td>RH_2</td>\n",
       "      <td>-488.666805</td>\n",
       "      <td>-439.846215</td>\n",
       "      <td>-4.845653e+02</td>\n",
       "    </tr>\n",
       "    <tr>\n",
       "      <th>1</th>\n",
       "      <td>T_out</td>\n",
       "      <td>-344.389845</td>\n",
       "      <td>-280.524329</td>\n",
       "      <td>-3.325717e+02</td>\n",
       "    </tr>\n",
       "    <tr>\n",
       "      <th>2</th>\n",
       "      <td>T2</td>\n",
       "      <td>-252.710373</td>\n",
       "      <td>-215.494498</td>\n",
       "      <td>-2.494688e+02</td>\n",
       "    </tr>\n",
       "    <tr>\n",
       "      <th>3</th>\n",
       "      <td>T9</td>\n",
       "      <td>-203.236627</td>\n",
       "      <td>-202.140437</td>\n",
       "      <td>-2.025025e+02</td>\n",
       "    </tr>\n",
       "    <tr>\n",
       "      <th>4</th>\n",
       "      <td>RH_8</td>\n",
       "      <td>-168.627161</td>\n",
       "      <td>-167.808155</td>\n",
       "      <td>-1.686955e+02</td>\n",
       "    </tr>\n",
       "    <tr>\n",
       "      <th>5</th>\n",
       "      <td>RH_out</td>\n",
       "      <td>-83.107599</td>\n",
       "      <td>-58.554305</td>\n",
       "      <td>-7.800039e+01</td>\n",
       "    </tr>\n",
       "    <tr>\n",
       "      <th>6</th>\n",
       "      <td>RH_7</td>\n",
       "      <td>-47.736592</td>\n",
       "      <td>-49.195346</td>\n",
       "      <td>-4.738909e+01</td>\n",
       "    </tr>\n",
       "    <tr>\n",
       "      <th>7</th>\n",
       "      <td>RH_9</td>\n",
       "      <td>-42.586339</td>\n",
       "      <td>-44.262196</td>\n",
       "      <td>-4.245510e+01</td>\n",
       "    </tr>\n",
       "    <tr>\n",
       "      <th>8</th>\n",
       "      <td>T5</td>\n",
       "      <td>-16.752822</td>\n",
       "      <td>-21.242949</td>\n",
       "      <td>-1.711872e+01</td>\n",
       "    </tr>\n",
       "    <tr>\n",
       "      <th>9</th>\n",
       "      <td>T1</td>\n",
       "      <td>-3.510725</td>\n",
       "      <td>-19.694643</td>\n",
       "      <td>-4.147124e+00</td>\n",
       "    </tr>\n",
       "    <tr>\n",
       "      <th>10</th>\n",
       "      <td>rv1</td>\n",
       "      <td>0.824005</td>\n",
       "      <td>0.800539</td>\n",
       "      <td>1.631174e+00</td>\n",
       "    </tr>\n",
       "    <tr>\n",
       "      <th>11</th>\n",
       "      <td>rv2</td>\n",
       "      <td>0.824005</td>\n",
       "      <td>0.800539</td>\n",
       "      <td>1.336915e-15</td>\n",
       "    </tr>\n",
       "    <tr>\n",
       "      <th>12</th>\n",
       "      <td>Press_mm_hg</td>\n",
       "      <td>7.318079</td>\n",
       "      <td>7.044746</td>\n",
       "      <td>7.282154e+00</td>\n",
       "    </tr>\n",
       "    <tr>\n",
       "      <th>13</th>\n",
       "      <td>T7</td>\n",
       "      <td>11.041091</td>\n",
       "      <td>10.804661</td>\n",
       "      <td>1.034681e+01</td>\n",
       "    </tr>\n",
       "    <tr>\n",
       "      <th>14</th>\n",
       "      <td>Visibility</td>\n",
       "      <td>13.168072</td>\n",
       "      <td>12.921845</td>\n",
       "      <td>1.307832e+01</td>\n",
       "    </tr>\n",
       "    <tr>\n",
       "      <th>15</th>\n",
       "      <td>RH_5</td>\n",
       "      <td>17.126194</td>\n",
       "      <td>17.283031</td>\n",
       "      <td>1.710332e+01</td>\n",
       "    </tr>\n",
       "    <tr>\n",
       "      <th>16</th>\n",
       "      <td>RH_4</td>\n",
       "      <td>28.232781</td>\n",
       "      <td>26.299028</td>\n",
       "      <td>2.744590e+01</td>\n",
       "    </tr>\n",
       "    <tr>\n",
       "      <th>17</th>\n",
       "      <td>T4</td>\n",
       "      <td>31.009668</td>\n",
       "      <td>29.300760</td>\n",
       "      <td>3.034520e+01</td>\n",
       "    </tr>\n",
       "    <tr>\n",
       "      <th>18</th>\n",
       "      <td>Windspeed</td>\n",
       "      <td>31.225948</td>\n",
       "      <td>32.386349</td>\n",
       "      <td>3.138951e+01</td>\n",
       "    </tr>\n",
       "    <tr>\n",
       "      <th>19</th>\n",
       "      <td>RH_6</td>\n",
       "      <td>40.712058</td>\n",
       "      <td>38.004925</td>\n",
       "      <td>4.009288e+01</td>\n",
       "    </tr>\n",
       "    <tr>\n",
       "      <th>20</th>\n",
       "      <td>RH_3</td>\n",
       "      <td>102.771652</td>\n",
       "      <td>101.794021</td>\n",
       "      <td>1.022046e+02</td>\n",
       "    </tr>\n",
       "    <tr>\n",
       "      <th>21</th>\n",
       "      <td>T8</td>\n",
       "      <td>109.134698</td>\n",
       "      <td>108.100118</td>\n",
       "      <td>1.088834e+02</td>\n",
       "    </tr>\n",
       "    <tr>\n",
       "      <th>22</th>\n",
       "      <td>Tdewpoint</td>\n",
       "      <td>126.000776</td>\n",
       "      <td>88.946505</td>\n",
       "      <td>1.185980e+02</td>\n",
       "    </tr>\n",
       "    <tr>\n",
       "      <th>23</th>\n",
       "      <td>T6</td>\n",
       "      <td>252.974652</td>\n",
       "      <td>232.502206</td>\n",
       "      <td>2.500810e+02</td>\n",
       "    </tr>\n",
       "    <tr>\n",
       "      <th>24</th>\n",
       "      <td>T3</td>\n",
       "      <td>310.971037</td>\n",
       "      <td>308.252882</td>\n",
       "      <td>3.102104e+02</td>\n",
       "    </tr>\n",
       "    <tr>\n",
       "      <th>25</th>\n",
       "      <td>RH_1</td>\n",
       "      <td>592.294862</td>\n",
       "      <td>555.892068</td>\n",
       "      <td>5.905998e+02</td>\n",
       "    </tr>\n",
       "  </tbody>\n",
       "</table>\n",
       "</div>"
      ],
      "text/plain": [
       "       Features  Linear_Model_Weight  Ridge_Weight  Lasso_weight\n",
       "0          RH_2          -488.666805   -439.846215 -4.845653e+02\n",
       "1         T_out          -344.389845   -280.524329 -3.325717e+02\n",
       "2            T2          -252.710373   -215.494498 -2.494688e+02\n",
       "3            T9          -203.236627   -202.140437 -2.025025e+02\n",
       "4          RH_8          -168.627161   -167.808155 -1.686955e+02\n",
       "5        RH_out           -83.107599    -58.554305 -7.800039e+01\n",
       "6          RH_7           -47.736592    -49.195346 -4.738909e+01\n",
       "7          RH_9           -42.586339    -44.262196 -4.245510e+01\n",
       "8            T5           -16.752822    -21.242949 -1.711872e+01\n",
       "9            T1            -3.510725    -19.694643 -4.147124e+00\n",
       "10          rv1             0.824005      0.800539  1.631174e+00\n",
       "11          rv2             0.824005      0.800539  1.336915e-15\n",
       "12  Press_mm_hg             7.318079      7.044746  7.282154e+00\n",
       "13           T7            11.041091     10.804661  1.034681e+01\n",
       "14   Visibility            13.168072     12.921845  1.307832e+01\n",
       "15         RH_5            17.126194     17.283031  1.710332e+01\n",
       "16         RH_4            28.232781     26.299028  2.744590e+01\n",
       "17           T4            31.009668     29.300760  3.034520e+01\n",
       "18    Windspeed            31.225948     32.386349  3.138951e+01\n",
       "19         RH_6            40.712058     38.004925  4.009288e+01\n",
       "20         RH_3           102.771652    101.794021  1.022046e+02\n",
       "21           T8           109.134698    108.100118  1.088834e+02\n",
       "22    Tdewpoint           126.000776     88.946505  1.185980e+02\n",
       "23           T6           252.974652    232.502206  2.500810e+02\n",
       "24           T3           310.971037    308.252882  3.102104e+02\n",
       "25         RH_1           592.294862    555.892068  5.905998e+02"
      ]
     },
     "execution_count": 41,
     "metadata": {},
     "output_type": "execute_result"
    }
   ],
   "source": [
    "final_weights"
   ]
  },
  {
   "cell_type": "markdown",
   "metadata": {},
   "source": [
    "## Question 20"
   ]
  },
  {
   "cell_type": "code",
   "execution_count": 65,
   "metadata": {},
   "outputs": [
    {
     "data": {
      "text/plain": [
       "93.641"
      ]
     },
     "execution_count": 65,
     "metadata": {},
     "output_type": "execute_result"
    }
   ],
   "source": [
    "pre = lasso_model.predict(x_test)\n",
    "\n",
    "rmse =np.sqrt(mean_squared_error(y_test, pre))\n",
    "\n",
    "round(rmse, 3)"
   ]
  },
  {
   "cell_type": "code",
   "execution_count": null,
   "metadata": {},
   "outputs": [],
   "source": []
  }
 ],
 "metadata": {
  "kernelspec": {
   "display_name": "Python 3",
   "language": "python",
   "name": "python3"
  },
  "language_info": {
   "codemirror_mode": {
    "name": "ipython",
    "version": 3
   },
   "file_extension": ".py",
   "mimetype": "text/x-python",
   "name": "python",
   "nbconvert_exporter": "python",
   "pygments_lexer": "ipython3",
   "version": "3.8.5"
  }
 },
 "nbformat": 4,
 "nbformat_minor": 4
}

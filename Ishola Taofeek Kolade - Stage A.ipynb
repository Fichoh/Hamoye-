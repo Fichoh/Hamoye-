{
 "cells": [
  {
   "cell_type": "code",
   "execution_count": 1,
   "id": "743cf15e",
   "metadata": {},
   "outputs": [],
   "source": [
    "import pandas as pd\n",
    "import numpy as np\n",
    "import matplotlib.pyplot as plt\n",
    "%matplotlib inline "
   ]
  },
  {
   "cell_type": "code",
   "execution_count": 2,
   "id": "c66db97f",
   "metadata": {},
   "outputs": [],
   "source": [
    "data = pd.read_csv('FoodBalanceSheets_E_Africa_NOFLAG.csv', encoding = 'ISO-8859-1')"
   ]
  },
  {
   "cell_type": "code",
   "execution_count": 3,
   "id": "c32c83ad",
   "metadata": {},
   "outputs": [
    {
     "data": {
      "text/html": [
       "<div>\n",
       "<style scoped>\n",
       "    .dataframe tbody tr th:only-of-type {\n",
       "        vertical-align: middle;\n",
       "    }\n",
       "\n",
       "    .dataframe tbody tr th {\n",
       "        vertical-align: top;\n",
       "    }\n",
       "\n",
       "    .dataframe thead th {\n",
       "        text-align: right;\n",
       "    }\n",
       "</style>\n",
       "<table border=\"1\" class=\"dataframe\">\n",
       "  <thead>\n",
       "    <tr style=\"text-align: right;\">\n",
       "      <th></th>\n",
       "      <th>Area Code</th>\n",
       "      <th>Area</th>\n",
       "      <th>Item Code</th>\n",
       "      <th>Item</th>\n",
       "      <th>Element Code</th>\n",
       "      <th>Element</th>\n",
       "      <th>Unit</th>\n",
       "      <th>Y2014</th>\n",
       "      <th>Y2015</th>\n",
       "      <th>Y2016</th>\n",
       "      <th>Y2017</th>\n",
       "      <th>Y2018</th>\n",
       "    </tr>\n",
       "  </thead>\n",
       "  <tbody>\n",
       "    <tr>\n",
       "      <th>0</th>\n",
       "      <td>4</td>\n",
       "      <td>Algeria</td>\n",
       "      <td>2501</td>\n",
       "      <td>Population</td>\n",
       "      <td>511</td>\n",
       "      <td>Total Population - Both sexes</td>\n",
       "      <td>1000 persons</td>\n",
       "      <td>38924.00</td>\n",
       "      <td>39728.00</td>\n",
       "      <td>40551.00</td>\n",
       "      <td>41389.00</td>\n",
       "      <td>42228.00</td>\n",
       "    </tr>\n",
       "    <tr>\n",
       "      <th>1</th>\n",
       "      <td>4</td>\n",
       "      <td>Algeria</td>\n",
       "      <td>2501</td>\n",
       "      <td>Population</td>\n",
       "      <td>5301</td>\n",
       "      <td>Domestic supply quantity</td>\n",
       "      <td>1000 tonnes</td>\n",
       "      <td>0.00</td>\n",
       "      <td>0.00</td>\n",
       "      <td>0.00</td>\n",
       "      <td>0.00</td>\n",
       "      <td>0.00</td>\n",
       "    </tr>\n",
       "    <tr>\n",
       "      <th>2</th>\n",
       "      <td>4</td>\n",
       "      <td>Algeria</td>\n",
       "      <td>2901</td>\n",
       "      <td>Grand Total</td>\n",
       "      <td>664</td>\n",
       "      <td>Food supply (kcal/capita/day)</td>\n",
       "      <td>kcal/capita/day</td>\n",
       "      <td>3377.00</td>\n",
       "      <td>3379.00</td>\n",
       "      <td>3372.00</td>\n",
       "      <td>3341.00</td>\n",
       "      <td>3322.00</td>\n",
       "    </tr>\n",
       "    <tr>\n",
       "      <th>3</th>\n",
       "      <td>4</td>\n",
       "      <td>Algeria</td>\n",
       "      <td>2901</td>\n",
       "      <td>Grand Total</td>\n",
       "      <td>674</td>\n",
       "      <td>Protein supply quantity (g/capita/day)</td>\n",
       "      <td>g/capita/day</td>\n",
       "      <td>94.90</td>\n",
       "      <td>94.35</td>\n",
       "      <td>94.72</td>\n",
       "      <td>92.82</td>\n",
       "      <td>91.83</td>\n",
       "    </tr>\n",
       "    <tr>\n",
       "      <th>4</th>\n",
       "      <td>4</td>\n",
       "      <td>Algeria</td>\n",
       "      <td>2901</td>\n",
       "      <td>Grand Total</td>\n",
       "      <td>684</td>\n",
       "      <td>Fat supply quantity (g/capita/day)</td>\n",
       "      <td>g/capita/day</td>\n",
       "      <td>80.06</td>\n",
       "      <td>79.36</td>\n",
       "      <td>77.40</td>\n",
       "      <td>80.19</td>\n",
       "      <td>77.28</td>\n",
       "    </tr>\n",
       "  </tbody>\n",
       "</table>\n",
       "</div>"
      ],
      "text/plain": [
       "   Area Code     Area  Item Code         Item  Element Code  \\\n",
       "0          4  Algeria       2501   Population           511   \n",
       "1          4  Algeria       2501   Population          5301   \n",
       "2          4  Algeria       2901  Grand Total           664   \n",
       "3          4  Algeria       2901  Grand Total           674   \n",
       "4          4  Algeria       2901  Grand Total           684   \n",
       "\n",
       "                                  Element             Unit     Y2014  \\\n",
       "0           Total Population - Both sexes     1000 persons  38924.00   \n",
       "1                Domestic supply quantity      1000 tonnes      0.00   \n",
       "2           Food supply (kcal/capita/day)  kcal/capita/day   3377.00   \n",
       "3  Protein supply quantity (g/capita/day)     g/capita/day     94.90   \n",
       "4      Fat supply quantity (g/capita/day)     g/capita/day     80.06   \n",
       "\n",
       "      Y2015     Y2016     Y2017     Y2018  \n",
       "0  39728.00  40551.00  41389.00  42228.00  \n",
       "1      0.00      0.00      0.00      0.00  \n",
       "2   3379.00   3372.00   3341.00   3322.00  \n",
       "3     94.35     94.72     92.82     91.83  \n",
       "4     79.36     77.40     80.19     77.28  "
      ]
     },
     "execution_count": 3,
     "metadata": {},
     "output_type": "execute_result"
    }
   ],
   "source": [
    "data.head()"
   ]
  },
  {
   "cell_type": "code",
   "execution_count": 4,
   "id": "02d6d8c0",
   "metadata": {},
   "outputs": [
    {
     "data": {
      "text/plain": [
       "Index(['Area Code', 'Area', 'Item Code', 'Item', 'Element Code', 'Element',\n",
       "       'Unit', 'Y2014', 'Y2015', 'Y2016', 'Y2017', 'Y2018'],\n",
       "      dtype='object')"
      ]
     },
     "execution_count": 4,
     "metadata": {},
     "output_type": "execute_result"
    }
   ],
   "source": [
    "data.columns"
   ]
  },
  {
   "cell_type": "markdown",
   "id": "f32dbe1b",
   "metadata": {},
   "source": [
    "### Question 1 :\n",
    "\n",
    "The sum of animal fat in 2014 and 2017\n"
   ]
  },
  {
   "cell_type": "code",
   "execution_count": 5,
   "id": "134a90a6",
   "metadata": {
    "scrolled": false
   },
   "outputs": [
    {
     "name": "stdout",
     "output_type": "stream",
     "text": [
      "Sum of animal fat in 2014 = 209460.54\n",
      "\n",
      "Sum of animal fat in 2017 = 269617.53\n"
     ]
    }
   ],
   "source": [
    "g = data.groupby('Item')\n",
    "AF_2014 = g.get_group('Animal fats')['Y2014'].sum()\n",
    "AF_2017 = g.get_group('Animal fats')['Y2017'].sum()\n",
    "print('Sum of animal fat in 2014 =', AF_2014)\n",
    "print() \n",
    "print('Sum of animal fat in 2017 =', AF_2017)\n"
   ]
  },
  {
   "cell_type": "markdown",
   "id": "49c70cf0",
   "metadata": {},
   "source": [
    "### Question 2\n",
    "\n",
    "Mean and Standard deviation across the whole dataset"
   ]
  },
  {
   "cell_type": "code",
   "execution_count": 6,
   "id": "16c2f2f2",
   "metadata": {},
   "outputs": [
    {
     "name": "stdout",
     "output_type": "stream",
     "text": [
      "Mean value 2015 = 135.236\n",
      "Standard deviation 2015 = 1603.404\n"
     ]
    }
   ],
   "source": [
    "statistics_2015 = data.describe()['Y2015']\n",
    "mean_2015 = statistics_2015['mean']\n",
    "std_2015 = statistics_2015['std']\n",
    "print('Mean value 2015 =', round(mean_2015, 3))\n",
    "print('Standard deviation 2015 =', round(std_2015, 3))"
   ]
  },
  {
   "cell_type": "markdown",
   "id": "1c0278ab",
   "metadata": {},
   "source": [
    "### Question 3\n",
    "\n",
    "Total number and percentage of missing data in 2016"
   ]
  },
  {
   "cell_type": "code",
   "execution_count": 7,
   "id": "c4b49538",
   "metadata": {
    "scrolled": true
   },
   "outputs": [
    {
     "name": "stdout",
     "output_type": "stream",
     "text": [
      "Count of null Values in 2016 = 1535\n",
      "\n",
      "Percentage of null in year 2016 = 2.52\n"
     ]
    }
   ],
   "source": [
    "null= data.isnull().sum()\n",
    "null_2016 = null['Y2016']\n",
    "mean_null_2016 = (null_2016/len(data))*100\n",
    "print('Count of null Values in 2016 =', null_2016) \n",
    "print() \n",
    "print('Percentage of null in year 2016 =', round(mean_null_2016, 2))"
   ]
  },
  {
   "cell_type": "markdown",
   "id": "7b8a6c17",
   "metadata": {},
   "source": [
    "### Question 4\n",
    "\n",
    "Year with the highest correlation with Element code "
   ]
  },
  {
   "cell_type": "code",
   "execution_count": 8,
   "id": "d82d20cf",
   "metadata": {
    "scrolled": true
   },
   "outputs": [],
   "source": [
    "col = ['Element Code','Y2014','Y2015','Y2016','Y2017','Y2018']\n",
    "df_el = data[col]\n",
    "correl = df_el.corr().sort_values(by='Element Code', ascending = False)\n",
    "correl = correl.iloc[1:,0].sort_values(ascending = False) "
   ]
  },
  {
   "cell_type": "code",
   "execution_count": 9,
   "id": "78820c44",
   "metadata": {},
   "outputs": [
    {
     "data": {
      "text/plain": [
       "<AxesSubplot:>"
      ]
     },
     "execution_count": 9,
     "metadata": {},
     "output_type": "execute_result"
    },
    {
     "data": {
      "image/png": "[encoded data removed]",
      "text/plain": [
       "<Figure size 432x288 with 1 Axes>"
      ]
     },
     "metadata": {
      "needs_background": "light"
     },
     "output_type": "display_data"
    }
   ],
   "source": [
    "correl.plot() "
   ]
  },
  {
   "cell_type": "markdown",
   "id": "c4682de1",
   "metadata": {},
   "source": [
    "### Question 5\n",
    "\n",
    "Year with the highest sum of Import Quantity "
   ]
  },
  {
   "cell_type": "code",
   "execution_count": 10,
   "id": "d42abb16",
   "metadata": {},
   "outputs": [],
   "source": [
    "d = data.groupby('Element')\n",
    "years = ['Y2014','Y2015','Y2016','Y2017','Y2018']\n",
    "iq_group = d.get_group('Import Quantity')[years].sum()\n",
    "iq_group = iq_group.sort_values(ascending = False) "
   ]
  },
  {
   "cell_type": "code",
   "execution_count": 11,
   "id": "ebe77248",
   "metadata": {},
   "outputs": [
    {
     "name": "stdout",
     "output_type": "stream",
     "text": [
      "Y2017    294559.09\n",
      "Y2018    287997.09\n",
      "Y2016    286582.78\n",
      "Y2014    274144.48\n",
      "Y2015    267018.46\n",
      "dtype: float64\n"
     ]
    },
    {
     "data": {
      "text/plain": [
       "<AxesSubplot:>"
      ]
     },
     "execution_count": 11,
     "metadata": {},
     "output_type": "execute_result"
    },
    {
     "data": {
      "image/png": "[encoded data removed]",
      "text/plain": [
       "<Figure size 432x288 with 1 Axes>"
      ]
     },
     "metadata": {
      "needs_background": "light"
     },
     "output_type": "display_data"
    }
   ],
   "source": [
    "print(iq_group) \n",
    "iq_group.plot()"
   ]
  },
  {
   "cell_type": "markdown",
   "id": "61767c94",
   "metadata": {},
   "source": [
    "### Question 6\n",
    "\n",
    "Total number of the sum of production in 2014"
   ]
  },
  {
   "cell_type": "code",
   "execution_count": 12,
   "id": "93885a31",
   "metadata": {},
   "outputs": [
    {
     "name": "stdout",
     "output_type": "stream",
     "text": [
      "The total sum of production in 2014 is : 1931287.75\n"
     ]
    }
   ],
   "source": [
    "prod_2014 = d.get_group('Production')['Y2014'].sum()\n",
    "print('The total sum of production in 2014 is :', prod_2014)"
   ]
  },
  {
   "cell_type": "markdown",
   "id": "75e740d6",
   "metadata": {},
   "source": [
    "### Question 7\n",
    "\n",
    "Element with the highest sum in 2018"
   ]
  },
  {
   "cell_type": "code",
   "execution_count": 13,
   "id": "6ec92499",
   "metadata": {},
   "outputs": [
    {
     "data": {
      "text/plain": [
       "Y2018    2161192.1\n",
       "Name: Domestic supply quantity, dtype: float64"
      ]
     },
     "execution_count": 13,
     "metadata": {},
     "output_type": "execute_result"
    }
   ],
   "source": [
    "ele_2018 = data[['Element', 'Y2018']]\n",
    "highest = ele_2018.groupby('Element').sum()\n",
    "highest = highest.sort_values(by = 'Y2018',ascending = False)\n",
    "highest.iloc[0, :]"
   ]
  },
  {
   "cell_type": "markdown",
   "id": "a35d35ed",
   "metadata": {},
   "source": [
    "### Question 8\n",
    "\n",
    "Element with third lowest sum in 2018"
   ]
  },
  {
   "cell_type": "code",
   "execution_count": 14,
   "id": "2eef14f0",
   "metadata": {},
   "outputs": [
    {
     "data": {
      "text/plain": [
       "Y2018    11833.56\n",
       "Name: Protein supply quantity (g/capita/day), dtype: float64"
      ]
     },
     "execution_count": 14,
     "metadata": {},
     "output_type": "execute_result"
    }
   ],
   "source": [
    "third_lowest = highest.iloc[-3,:]\n",
    "third_lowest"
   ]
  },
  {
   "cell_type": "markdown",
   "id": "bf1b7870",
   "metadata": {},
   "source": [
    "### Question 9\n",
    "\n",
    "Total Import Quantity in Algeria in 2018"
   ]
  },
  {
   "cell_type": "code",
   "execution_count": 15,
   "id": "9aff1156",
   "metadata": {},
   "outputs": [
    {
     "name": "stdout",
     "output_type": "stream",
     "text": [
      "Total Import Quantity in Algeria is : 36238.29\n"
     ]
    }
   ],
   "source": [
    "data_2018 = data[['Area', 'Element', 'Y2018']]\n",
    "alg_data = data_2018[data_2018['Area']==\"Algeria\"]\n",
    "alg_tot = alg_data.groupby('Element').get_group('Import Quantity')['Y2018'].sum()\n",
    "print('Total Import Quantity in Algeria is :', alg_tot) "
   ]
  },
  {
   "cell_type": "markdown",
   "id": "7a248790",
   "metadata": {},
   "source": [
    "### Question 10\n",
    "\n",
    "Number of unique countries in the dataset"
   ]
  },
  {
   "cell_type": "code",
   "execution_count": 16,
   "id": "88b1e674",
   "metadata": {},
   "outputs": [
    {
     "name": "stdout",
     "output_type": "stream",
     "text": [
      "The number of unique countries in the dataset is : 49\n"
     ]
    }
   ],
   "source": [
    "unique_count = np.unique(data['Area'])\n",
    "print('The number of unique countries in the dataset is :', len(unique_count)) \n"
   ]
  }
 ],
 "metadata": {
  "kernelspec": {
   "display_name": "Python 3 (ipykernel)",
   "language": "python",
   "name": "python3"
  },
  "language_info": {
   "codemirror_mode": {
    "name": "ipython",
    "version": 3
   },
   "file_extension": ".py",
   "mimetype": "text/x-python",
   "name": "python",
   "nbconvert_exporter": "python",
   "pygments_lexer": "ipython3",
   "version": "3.9.7"
  }
 },
 "nbformat": 4,
 "nbformat_minor": 5
}
